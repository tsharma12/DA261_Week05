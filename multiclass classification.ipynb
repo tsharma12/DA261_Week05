{
 "cells": [
  {
   "cell_type": "markdown",
   "id": "fd59f0cf",
   "metadata": {},
   "source": [
    "# Training with 130 data samples"
   ]
  },
  {
   "cell_type": "code",
   "execution_count": 1,
   "id": "c4db273b",
   "metadata": {},
   "outputs": [
    {
     "name": "stdout",
     "output_type": "stream",
     "text": [
      "<class 'sklearn.utils._bunch.Bunch'>\n",
      "iris.data : (150, 4)\n",
      "iris.target : (150,)\n",
      "X_train : <class 'numpy.ndarray'> (130, 4)\n",
      "X_test : <class 'numpy.ndarray'> (20, 4)\n",
      "y_train : <class 'numpy.ndarray'> (130,)\n",
      "y_test : <class 'numpy.ndarray'> (20,)\n",
      "\n",
      " True class : [1 2 1 2 1 2 0 0 2 1 1 0 2 2 0 0 1 2 1 0]\n",
      "\n",
      " Predicted class :  [1 2 1 2 1 2 0 0 2 1 1 0 2 2 0 0 1 2 2 0]\n",
      "Confusion Matrix:\n",
      " [[6 0 0]\n",
      " [0 6 1]\n",
      " [0 0 7]]\n",
      "Accuracy Score:  0.95\n",
      "Precision Score:  [1.    1.    0.875]\n",
      "Recall Score:  [1.         0.85714286 1.        ]\n",
      "F1 Score:  [1.         0.92307692 0.93333333]\n"
     ]
    }
   ],
   "source": [
    "from sklearn.datasets import load_iris\n",
    "from sklearn.naive_bayes import GaussianNB\n",
    "from sklearn.model_selection import train_test_split\n",
    "from sklearn.metrics import confusion_matrix, f1_score, precision_score, recall_score, accuracy_score\n",
    "\n",
    "# Load Iris dataset\n",
    "iris = load_iris()\n",
    "X, y = iris.data, iris.target\n",
    "\n",
    "print(type(iris))\n",
    "print(\"iris.data :\", iris.data.shape)\n",
    "print(\"iris.target :\", iris.target.shape)\n",
    "\n",
    "# Fix the seed and stratify to ensure same output every time\n",
    "X_train, X_test, y_train, y_test = train_test_split(\n",
    "    X, y, train_size=130, test_size=20, random_state=42, stratify=y\n",
    ")\n",
    "\n",
    "print(\"X_train :\", type(X_train), X_train.shape)\n",
    "print(\"X_test :\", type(X_test), X_test.shape)\n",
    "print(\"y_train :\", type(y_train), y_train.shape)\n",
    "print(\"y_test :\", type(y_test), y_test.shape)\n",
    "\n",
    "# Train Naive Bayes model\n",
    "model = GaussianNB()\n",
    "model.fit(X_train, y_train)\n",
    "\n",
    "# Predict\n",
    "y_pred = model.predict(X_test)\n",
    "\n",
    "print(\"\\n True class :\", y_test)\n",
    "print(\"\\n Predicted class : \", y_pred)\n",
    "\n",
    "# Evaluate\n",
    "print(\"Confusion Matrix:\\n\", confusion_matrix(y_test, y_pred))\n",
    "print(\"Accuracy Score: \", accuracy_score(y_test, y_pred))\n",
    "print(\"Precision Score: \", precision_score(y_test, y_pred, average= None))\n",
    "print(\"Recall Score: \", recall_score(y_test, y_pred, average= None))\n",
    "print(\"F1 Score: \", f1_score(y_test, y_pred, average= None))"
   ]
  },
  {
   "cell_type": "code",
   "execution_count": null,
   "id": "c39dbec4",
   "metadata": {},
   "outputs": [],
   "source": []
  }
 ],
 "metadata": {
  "kernelspec": {
   "display_name": "base",
   "language": "python",
   "name": "python3"
  },
  "language_info": {
   "codemirror_mode": {
    "name": "ipython",
    "version": 3
   },
   "file_extension": ".py",
   "mimetype": "text/x-python",
   "name": "python",
   "nbconvert_exporter": "python",
   "pygments_lexer": "ipython3",
   "version": "3.12.7"
  }
 },
 "nbformat": 4,
 "nbformat_minor": 5
}
